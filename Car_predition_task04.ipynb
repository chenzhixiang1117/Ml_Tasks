{
 "cells": [
  {
   "cell_type": "markdown",
   "metadata": {},
   "source": [
    "##### LASSO 回归原理 和岭回归原理https://blog.csdn.net/pxhdky/article/details/82960659?depth_1-utm_source=distribute.pc_relevant.none-task&utm_source=distribute.pc_relevant.none-task"
   ]
  },
  {
   "cell_type": "markdown",
   "metadata": {},
   "source": [
    "# 0.读取数据"
   ]
  },
  {
   "cell_type": "code",
   "execution_count": 70,
   "metadata": {},
   "outputs": [],
   "source": [
    "import numpy as np\n",
    "import pandas as pd\n",
    "import warnings\n",
    "warnings.filterwarnings('ignore')\n"
   ]
  },
  {
   "cell_type": "markdown",
   "metadata": {},
   "source": [
    "reduce_men_usage 函数通过调整数据类型，帮助我们减少数据在内存中占用的空间"
   ]
  },
  {
   "cell_type": "code",
   "execution_count": 71,
   "metadata": {},
   "outputs": [],
   "source": [
    "def reduce_mem_usage(df):\n",
    "    '''\n",
    "    iterate through all the columns of a dataframe and modify the data type\n",
    "    to reduce memory usage.\n",
    "    '''\n",
    "    start_mem = df.memory_usage().sum()\n",
    "    print('Memory usage of dataframe is {:.2f} MB'.format(start_mem))\n",
    "    \n",
    "    for col in df.columns:\n",
    "        col_type = df[col].dtype\n",
    "        \n",
    "        if col_type != object:\n",
    "            c_min = df[col].min()\n",
    "            c_max = df[col].max()\n",
    "            if str(col_type)[:3] == 'int':\n",
    "                if c_min > np.iinfo(np.int8).min and c_max < np.iinfo(np.int8).max:\n",
    "                    df[col] = df[col].astype(np.int8)\n",
    "                elif c_min > np.iinfo(np.int16).min and c_max < np.iinfo(np.int16).max:\n",
    "                    df[col] = df[col].astype(np.int16)\n",
    "                elif c_min > np.iinfo(np.int32).min and c_max < np.iinfo(np.int32).max:\n",
    "                    df[col] = df[col].astype(np.int32)\n",
    "                elif c_min > np.iinfo(np.int64).min and c_max < np.iinfo(np.int64).max:\n",
    "                    df[col] = df[col].astype(np.int64)  \n",
    "            else:\n",
    "                if c_min > np.finfo(np.float16).min and c_max < np.finfo(np.float16).max:\n",
    "                    df[col] = df[col].astype(np.float16)\n",
    "                elif c_min > np.finfo(np.float32).min and c_max < np.finfo(np.float32).max:\n",
    "                    df[col] = df[col].astype(np.float32)\n",
    "                else:\n",
    "                    df[col] = df[col].astype(np.float64)\n",
    "        else:\n",
    "            df[col] = df[col].astype('category')\n",
    "\n",
    "    end_mem = df.memory_usage().sum() \n",
    "    print('Memory usage after optimization is: {:.2f} MB'.format(end_mem))\n",
    "    print('Decreased by {:.1f}%'.format(100 * (start_mem - end_mem) / start_mem))\n",
    "    return df"
   ]
  },
  {
   "cell_type": "code",
   "execution_count": 72,
   "metadata": {},
   "outputs": [
    {
     "name": "stdout",
     "output_type": "stream",
     "text": [
      "Memory usage of dataframe is 62099624.00 MB\n",
      "Memory usage after optimization is: 16520255.00 MB\n",
      "Decreased by 73.4%\n"
     ]
    }
   ],
   "source": [
    "path = 'C:/Users/czx/Desktop/数据挖掘实践（二手车价格预测）/data/'\n",
    "sample_feature = reduce_mem_usage(pd.read_csv(path+'data_for_tree.csv'))"
   ]
  },
  {
   "cell_type": "code",
   "execution_count": 73,
   "metadata": {},
   "outputs": [],
   "source": [
    "continuous_feature_names = [x for x in sample_feature.columns if x not in ['price','brand','model']]"
   ]
  },
  {
   "cell_type": "markdown",
   "metadata": {},
   "source": [
    "# 1.线性回归&五折交叉验证&模拟真是业务情况"
   ]
  },
  {
   "cell_type": "markdown",
   "metadata": {},
   "source": [
    "## pd.reset_index():https://www.jianshu.com/p/abf38d68829c"
   ]
  },
  {
   "cell_type": "code",
   "execution_count": 74,
   "metadata": {},
   "outputs": [
    {
     "data": {
      "text/html": [
       "<div>\n",
       "<style scoped>\n",
       "    .dataframe tbody tr th:only-of-type {\n",
       "        vertical-align: middle;\n",
       "    }\n",
       "\n",
       "    .dataframe tbody tr th {\n",
       "        vertical-align: top;\n",
       "    }\n",
       "\n",
       "    .dataframe thead th {\n",
       "        text-align: right;\n",
       "    }\n",
       "</style>\n",
       "<table border=\"1\" class=\"dataframe\">\n",
       "  <thead>\n",
       "    <tr style=\"text-align: right;\">\n",
       "      <th></th>\n",
       "      <th>SaleID</th>\n",
       "      <th>bodyType</th>\n",
       "      <th>brand</th>\n",
       "      <th>fuelType</th>\n",
       "      <th>gearbox</th>\n",
       "      <th>kilometer</th>\n",
       "      <th>model</th>\n",
       "      <th>name</th>\n",
       "      <th>notRepairedDamage</th>\n",
       "      <th>offerType</th>\n",
       "      <th>...</th>\n",
       "      <th>used_time</th>\n",
       "      <th>city</th>\n",
       "      <th>brand_amount</th>\n",
       "      <th>brand_price_average</th>\n",
       "      <th>brand_price_max</th>\n",
       "      <th>brand_price_median</th>\n",
       "      <th>brand_price_min</th>\n",
       "      <th>brand_price_std</th>\n",
       "      <th>brand_price_sum</th>\n",
       "      <th>power_bin</th>\n",
       "    </tr>\n",
       "  </thead>\n",
       "  <tbody>\n",
       "    <tr>\n",
       "      <th>0</th>\n",
       "      <td>0</td>\n",
       "      <td>1.0</td>\n",
       "      <td>6</td>\n",
       "      <td>0.0</td>\n",
       "      <td>0.0</td>\n",
       "      <td>12.5</td>\n",
       "      <td>30.0</td>\n",
       "      <td>736</td>\n",
       "      <td>0.0</td>\n",
       "      <td>0</td>\n",
       "      <td>...</td>\n",
       "      <td>4384.0</td>\n",
       "      <td>1.0</td>\n",
       "      <td>10192.0</td>\n",
       "      <td>3576.0</td>\n",
       "      <td>35990.0</td>\n",
       "      <td>1800.0</td>\n",
       "      <td>13.0</td>\n",
       "      <td>4564.0</td>\n",
       "      <td>36457520.0</td>\n",
       "      <td>5.0</td>\n",
       "    </tr>\n",
       "    <tr>\n",
       "      <th>1</th>\n",
       "      <td>1</td>\n",
       "      <td>2.0</td>\n",
       "      <td>1</td>\n",
       "      <td>0.0</td>\n",
       "      <td>0.0</td>\n",
       "      <td>15.0</td>\n",
       "      <td>40.0</td>\n",
       "      <td>2262</td>\n",
       "      <td>-</td>\n",
       "      <td>0</td>\n",
       "      <td>...</td>\n",
       "      <td>4756.0</td>\n",
       "      <td>4.0</td>\n",
       "      <td>13656.0</td>\n",
       "      <td>9080.0</td>\n",
       "      <td>84000.0</td>\n",
       "      <td>6400.0</td>\n",
       "      <td>15.0</td>\n",
       "      <td>8992.0</td>\n",
       "      <td>124044600.0</td>\n",
       "      <td>NaN</td>\n",
       "    </tr>\n",
       "    <tr>\n",
       "      <th>2</th>\n",
       "      <td>2</td>\n",
       "      <td>1.0</td>\n",
       "      <td>15</td>\n",
       "      <td>0.0</td>\n",
       "      <td>0.0</td>\n",
       "      <td>12.5</td>\n",
       "      <td>115.0</td>\n",
       "      <td>14874</td>\n",
       "      <td>0.0</td>\n",
       "      <td>0</td>\n",
       "      <td>...</td>\n",
       "      <td>4384.0</td>\n",
       "      <td>2.0</td>\n",
       "      <td>1458.0</td>\n",
       "      <td>9848.0</td>\n",
       "      <td>45000.0</td>\n",
       "      <td>8496.0</td>\n",
       "      <td>100.0</td>\n",
       "      <td>5424.0</td>\n",
       "      <td>14373814.0</td>\n",
       "      <td>16.0</td>\n",
       "    </tr>\n",
       "    <tr>\n",
       "      <th>3</th>\n",
       "      <td>3</td>\n",
       "      <td>0.0</td>\n",
       "      <td>10</td>\n",
       "      <td>0.0</td>\n",
       "      <td>1.0</td>\n",
       "      <td>15.0</td>\n",
       "      <td>109.0</td>\n",
       "      <td>71865</td>\n",
       "      <td>0.0</td>\n",
       "      <td>0</td>\n",
       "      <td>...</td>\n",
       "      <td>7124.0</td>\n",
       "      <td>NaN</td>\n",
       "      <td>13992.0</td>\n",
       "      <td>8076.0</td>\n",
       "      <td>92900.0</td>\n",
       "      <td>5200.0</td>\n",
       "      <td>15.0</td>\n",
       "      <td>8248.0</td>\n",
       "      <td>113034208.0</td>\n",
       "      <td>19.0</td>\n",
       "    </tr>\n",
       "    <tr>\n",
       "      <th>4</th>\n",
       "      <td>4</td>\n",
       "      <td>1.0</td>\n",
       "      <td>5</td>\n",
       "      <td>0.0</td>\n",
       "      <td>0.0</td>\n",
       "      <td>5.0</td>\n",
       "      <td>110.0</td>\n",
       "      <td>111080</td>\n",
       "      <td>0.0</td>\n",
       "      <td>0</td>\n",
       "      <td>...</td>\n",
       "      <td>1531.0</td>\n",
       "      <td>6.0</td>\n",
       "      <td>4664.0</td>\n",
       "      <td>3306.0</td>\n",
       "      <td>31500.0</td>\n",
       "      <td>2300.0</td>\n",
       "      <td>20.0</td>\n",
       "      <td>3344.0</td>\n",
       "      <td>15414322.0</td>\n",
       "      <td>6.0</td>\n",
       "    </tr>\n",
       "  </tbody>\n",
       "</table>\n",
       "<p>5 rows × 39 columns</p>\n",
       "</div>"
      ],
      "text/plain": [
       "   SaleID  bodyType  brand  fuelType  gearbox  kilometer  model    name  \\\n",
       "0       0       1.0      6       0.0      0.0       12.5   30.0     736   \n",
       "1       1       2.0      1       0.0      0.0       15.0   40.0    2262   \n",
       "2       2       1.0     15       0.0      0.0       12.5  115.0   14874   \n",
       "3       3       0.0     10       0.0      1.0       15.0  109.0   71865   \n",
       "4       4       1.0      5       0.0      0.0        5.0  110.0  111080   \n",
       "\n",
       "  notRepairedDamage  offerType  ...  used_time  city  brand_amount  \\\n",
       "0               0.0          0  ...     4384.0   1.0       10192.0   \n",
       "1                 -          0  ...     4756.0   4.0       13656.0   \n",
       "2               0.0          0  ...     4384.0   2.0        1458.0   \n",
       "3               0.0          0  ...     7124.0   NaN       13992.0   \n",
       "4               0.0          0  ...     1531.0   6.0        4664.0   \n",
       "\n",
       "   brand_price_average  brand_price_max  brand_price_median  brand_price_min  \\\n",
       "0               3576.0          35990.0              1800.0             13.0   \n",
       "1               9080.0          84000.0              6400.0             15.0   \n",
       "2               9848.0          45000.0              8496.0            100.0   \n",
       "3               8076.0          92900.0              5200.0             15.0   \n",
       "4               3306.0          31500.0              2300.0             20.0   \n",
       "\n",
       "   brand_price_std  brand_price_sum  power_bin  \n",
       "0           4564.0       36457520.0        5.0  \n",
       "1           8992.0      124044600.0        NaN  \n",
       "2           5424.0       14373814.0       16.0  \n",
       "3           8248.0      113034208.0       19.0  \n",
       "4           3344.0       15414322.0        6.0  \n",
       "\n",
       "[5 rows x 39 columns]"
      ]
     },
     "execution_count": 74,
     "metadata": {},
     "output_type": "execute_result"
    }
   ],
   "source": [
    "sample_feature.head()"
   ]
  },
  {
   "cell_type": "code",
   "execution_count": 75,
   "metadata": {},
   "outputs": [],
   "source": [
    "sample_feature = sample_feature.dropna().replace('-',0).reset_index(drop = True)\n",
    "sample_feature['notRepairedDamage'] = sample_feature['notRepairedDamage'].astype(np.float32)\n",
    "train =sample_feature[continuous_feature_names + ['price']]\n",
    "\n",
    "train_X =train[continuous_feature_names]\n",
    "train_y =train['price']"
   ]
  },
  {
   "cell_type": "markdown",
   "metadata": {},
   "source": [
    "## 1.1 简单建模"
   ]
  },
  {
   "cell_type": "code",
   "execution_count": 76,
   "metadata": {},
   "outputs": [],
   "source": [
    "from sklearn.linear_model import LinearRegression"
   ]
  },
  {
   "cell_type": "code",
   "execution_count": 77,
   "metadata": {},
   "outputs": [],
   "source": [
    "model = LinearRegression(normalize=True)"
   ]
  },
  {
   "cell_type": "code",
   "execution_count": 78,
   "metadata": {},
   "outputs": [],
   "source": [
    "model = model.fit(train_X,train_y)"
   ]
  },
  {
   "cell_type": "markdown",
   "metadata": {},
   "source": [
    "查看训练的线性回归模型的截距（intercept）与权重（coef)"
   ]
  },
  {
   "cell_type": "code",
   "execution_count": 79,
   "metadata": {},
   "outputs": [
    {
     "data": {
      "text/plain": [
       "[('v_6', 3367064.3416418885),\n",
       " ('v_8', 700675.5609398765),\n",
       " ('v_9', 170630.27723219804),\n",
       " ('v_7', 32322.6619320201),\n",
       " ('v_12', 20473.670796961596),\n",
       " ('v_3', 17868.079541491265),\n",
       " ('v_11', 11474.938996744104),\n",
       " ('v_13', 11261.764560012658),\n",
       " ('v_10', 2683.920090548302),\n",
       " ('gearbox', 881.8225039248434),\n",
       " ('fuelType', 363.9042507216644),\n",
       " ('bodyType', 189.60271012074313),\n",
       " ('city', 44.94975120523297),\n",
       " ('power', 28.553901616757976),\n",
       " ('brand_price_median', 0.5103728134078416),\n",
       " ('brand_price_std', 0.4503634709262843),\n",
       " ('brand_amount', 0.14881120395065828),\n",
       " ('brand_price_max', 0.0031910186703131976),\n",
       " ('SaleID', 5.355989919854696e-05),\n",
       " ('seller', 6.360758561640978e-06),\n",
       " ('train', 4.223024006932974e-06),\n",
       " ('offerType', 1.484499080106616e-06),\n",
       " ('brand_price_sum', -2.1750068681876535e-05),\n",
       " ('name', -0.0002980012713030957),\n",
       " ('used_time', -0.002515894332882505),\n",
       " ('brand_price_average', -0.4049048451010813),\n",
       " ('brand_price_min', -2.2467753486894932),\n",
       " ('power_bin', -34.42064411731264),\n",
       " ('v_14', -274.78411807753463),\n",
       " ('kilometer', -372.89752666074475),\n",
       " ('notRepairedDamage', -495.1903844628985),\n",
       " ('v_0', -2045.0549573538378),\n",
       " ('v_5', -11022.986240568616),\n",
       " ('v_4', -15121.731109855104),\n",
       " ('v_2', -26098.29992054594),\n",
       " ('v_1', -45556.189297332225)]"
      ]
     },
     "execution_count": 79,
     "metadata": {},
     "output_type": "execute_result"
    }
   ],
   "source": [
    "'intercept' + str(model.intercept_)\n",
    "sorted(dict(zip(continuous_feature_names,model.coef_)).items(), key= lambda x : x[1], reverse= True)"
   ]
  },
  {
   "cell_type": "code",
   "execution_count": 80,
   "metadata": {},
   "outputs": [],
   "source": [
    "from matplotlib import pyplot as plt"
   ]
  },
  {
   "cell_type": "markdown",
   "metadata": {},
   "source": [
    "### np.random.randint:https://blog.csdn.net/u011851421/article/details/83544853"
   ]
  },
  {
   "cell_type": "code",
   "execution_count": 81,
   "metadata": {},
   "outputs": [
    {
     "data": {
      "text/plain": [
       "array([55099, 65734, 36467,  2416, 82524, 26092, 87661, 89616, 77028,\n",
       "       45242, 12438,  9064, 81463, 16980,  2189,  4077, 52354, 54976,\n",
       "       22556, 12787, 47398, 85454, 86157, 54541, 58178, 73219, 47636,\n",
       "       86111, 34344, 21013, 63911,  9562, 43700,  6805, 50173, 38523,\n",
       "       77284, 50094, 38728, 90691, 31108, 23093,  1861, 86164, 66077,\n",
       "       27854, 34052, 87506, 70105, 23914])"
      ]
     },
     "execution_count": 81,
     "metadata": {},
     "output_type": "execute_result"
    }
   ],
   "source": [
    "subsample_index = np.random.randint(low = 0, high = len(train_y),size =50)\n",
    "subsample_index"
   ]
  },
  {
   "cell_type": "markdown",
   "metadata": {},
   "source": [
    "绘制特征v_9 的 值与标签的散点图，图片发现模型的预测结果（蓝色点）与真实标签（黑色点)的分布差异较大，且部分预测值出现了小于0的情况，说明我们模型存在一些问题"
   ]
  },
  {
   "cell_type": "code",
   "execution_count": 82,
   "metadata": {},
   "outputs": [
    {
     "name": "stdout",
     "output_type": "stream",
     "text": [
      "The predicted price is obvious different from true price\n"
     ]
    },
    {
     "data": {
      "image/png": "[encoded data removed]",
      "text/plain": [
       "<Figure size 432x288 with 1 Axes>"
      ]
     },
     "metadata": {
      "needs_background": "light"
     },
     "output_type": "display_data"
    }
   ],
   "source": [
    "plt.scatter(train_X['v_9'][subsample_index], train_y[subsample_index],color = 'black')\n",
    "plt.scatter(train_X['v_9'][subsample_index], model.predict(train_X.loc[subsample_index]), color ='blue')\n",
    "plt.xlabel('v_9')\n",
    "plt.ylabel('price')\n",
    "plt.legend(['True Price','Predicted Price'], loc = 'upper right')\n",
    "print('The predicted price is obvious different from true price')\n",
    "plt.show()"
   ]
  },
  {
   "cell_type": "markdown",
   "metadata": {},
   "source": [
    "通过作图我们发现的标签（price) 呈现长尾分布，不利于我们建模预测。原因是很多模型都假设数据误差项符合正态分布，而长尾分布的数据违背了这一假设。参考博客：https://blog.csdn.net/Noob_daniel/article/details/76087829"
   ]
  },
  {
   "cell_type": "code",
   "execution_count": 83,
   "metadata": {},
   "outputs": [],
   "source": [
    "np.quantile?"
   ]
  },
  {
   "cell_type": "code",
   "execution_count": 84,
   "metadata": {},
   "outputs": [
    {
     "name": "stdout",
     "output_type": "stream",
     "text": [
      "It is clear to see the price shows a typical exponential distribution\n"
     ]
    },
    {
     "data": {
      "text/plain": [
       "<matplotlib.axes._subplots.AxesSubplot at 0x23c02352240>"
      ]
     },
     "execution_count": 84,
     "metadata": {},
     "output_type": "execute_result"
    },
    {
     "data": {
      "image/png": "[encoded data removed]",
      "text/plain": [
       "<Figure size 1080x360 with 2 Axes>"
      ]
     },
     "metadata": {
      "needs_background": "light"
     },
     "output_type": "display_data"
    }
   ],
   "source": [
    "import seaborn as sns\n",
    "print('It is clear to see the price shows a typical exponential distribution')\n",
    "plt.figure(figsize = (15,5))\n",
    "plt.subplot(1,2,1)\n",
    "sns.distplot(train_y)\n",
    "plt.subplot(1,2,2)\n",
    "sns.distplot(train_y[train_y < np.quantile(train_y,0.9)])"
   ]
  },
  {
   "cell_type": "markdown",
   "metadata": {},
   "source": [
    "在这里我们对标签进行log(x+1)​变换，是标签贴近于正态分布"
   ]
  },
  {
   "cell_type": "code",
   "execution_count": 85,
   "metadata": {},
   "outputs": [],
   "source": [
    "train_y_ln = np.log(train_y + 1)"
   ]
  },
  {
   "cell_type": "code",
   "execution_count": 86,
   "metadata": {},
   "outputs": [
    {
     "name": "stdout",
     "output_type": "stream",
     "text": [
      "The transformed price seems like normal distribution\n"
     ]
    },
    {
     "data": {
      "text/plain": [
       "<matplotlib.axes._subplots.AxesSubplot at 0x23c0271ecc0>"
      ]
     },
     "execution_count": 86,
     "metadata": {},
     "output_type": "execute_result"
    },
    {
     "data": {
      "image/png": "[encoded data removed]",
      "text/plain": [
       "<Figure size 1080x360 with 2 Axes>"
      ]
     },
     "metadata": {
      "needs_background": "light"
     },
     "output_type": "display_data"
    }
   ],
   "source": [
    "import seaborn as sns\n",
    "print('The transformed price seems like normal distribution')\n",
    "plt.figure(figsize =( 15,5))\n",
    "plt.subplot(1,2,1)\n",
    "sns.distplot(train_y_ln)\n",
    "plt.subplot(1,2,2)\n",
    "sns.distplot(train_y_ln[train_y_ln < np.quantile(train_y_ln, 0.9)])"
   ]
  },
  {
   "cell_type": "code",
   "execution_count": 87,
   "metadata": {},
   "outputs": [
    {
     "name": "stdout",
     "output_type": "stream",
     "text": [
      "intercept:18.750749465594957\n"
     ]
    },
    {
     "data": {
      "text/plain": [
       "[('v_9', 8.052409900567477),\n",
       " ('v_5', 5.764236596650081),\n",
       " ('v_12', 1.6182081236819155),\n",
       " ('v_1', 1.479831058295035),\n",
       " ('v_11', 1.1669016563641523),\n",
       " ('v_13', 0.9404711296036387),\n",
       " ('v_7', 0.7137273083560037),\n",
       " ('v_3', 0.6837875771095079),\n",
       " ('v_0', 0.008500518010186454),\n",
       " ('power_bin', 0.008497969302893411),\n",
       " ('gearbox', 0.007922377278329408),\n",
       " ('fuelType', 0.0066847697068276625),\n",
       " ('bodyType', 0.004523520092703856),\n",
       " ('power', 0.000716189420535678),\n",
       " ('brand_price_min', 3.334351114750342e-05),\n",
       " ('brand_amount', 2.8978797042773655e-06),\n",
       " ('brand_price_median', 1.2571172873006204e-06),\n",
       " ('brand_price_std', 6.659176363441036e-07),\n",
       " ('brand_price_max', 6.194956307516888e-07),\n",
       " ('brand_price_average', 5.999345965057764e-07),\n",
       " ('SaleID', 2.1194170039647107e-08),\n",
       " ('offerType', 7.493827780535867e-11),\n",
       " ('seller', 7.547740210611664e-12),\n",
       " ('train', -2.5622171051509213e-11),\n",
       " ('brand_price_sum', -1.5126504215920857e-10),\n",
       " ('name', -7.015512588901114e-08),\n",
       " ('used_time', -4.1224793723511985e-06),\n",
       " ('city', -0.002218782481042917),\n",
       " ('v_14', -0.004234223418126128),\n",
       " ('kilometer', -0.013835866226883202),\n",
       " ('notRepairedDamage', -0.2702794234984628),\n",
       " ('v_4', -0.8315701200996395),\n",
       " ('v_2', -0.9470842241660011),\n",
       " ('v_10', -1.6261466689787267),\n",
       " ('v_8', -40.34300748761723),\n",
       " ('v_6', -238.79036385506797)]"
      ]
     },
     "execution_count": 87,
     "metadata": {},
     "output_type": "execute_result"
    }
   ],
   "source": [
    "model =model.fit(train_X, train_y_ln)\n",
    "\n",
    "print('intercept:'+str(model.intercept_))\n",
    "sorted(dict(zip(continuous_feature_names,model.coef_)).items(), key= lambda x: x[1], reverse=True)"
   ]
  },
  {
   "cell_type": "markdown",
   "metadata": {},
   "source": [
    "再次进行可视化，发现预测结果与真实值较为接近，且未出现异常状况"
   ]
  },
  {
   "cell_type": "code",
   "execution_count": 88,
   "metadata": {},
   "outputs": [
    {
     "name": "stdout",
     "output_type": "stream",
     "text": [
      "The predicted price seems normal after np.log transforming\n"
     ]
    },
    {
     "data": {
      "image/png": "[encoded data removed]",
      "text/plain": [
       "<Figure size 432x288 with 1 Axes>"
      ]
     },
     "metadata": {
      "needs_background": "light"
     },
     "output_type": "display_data"
    }
   ],
   "source": [
    "plt.scatter(train_X['v_9'][subsample_index],train_y[subsample_index], color = 'black')\n",
    "plt.scatter(train_X['v_9'][subsample_index], np.exp(model.predict(train_X.loc[subsample_index]))-1, color ='blue')\n",
    "plt.xlabel('v_9')\n",
    "plt.ylabel('price')\n",
    "plt.legend(['True price','Predicted Price'], loc='upper right')\n",
    "print('The predicted price seems normal after np.log transforming')\n",
    "plt.show()"
   ]
  },
  {
   "cell_type": "markdown",
   "metadata": {},
   "source": [
    "### 1.2 五折交叉验证"
   ]
  },
  {
   "cell_type": "markdown",
   "metadata": {},
   "source": [
    "在使用训练集对参数进行训练的时候，经常会发现人们通常将会一整个训练集分为三个部分（比如mnist手写训练集）。 一般分为：训练集(train_set)，评估集（valid_set)，测试集（test_set)这三个部分。这其实是为了保证训练效果而特意设置的。其中测试集很好理解，其实就是完全不参与训练的数据，仅仅用来观测测试效果的数据。而训练集和评估集涉及到下面的知识了。\n",
    " 因为在实际的训练中，训练的结果对于训练集的拟合程度通常还是挺好的（初始条件敏感），但是对于训练集之外的数据的拟合程度通常就不那么令人满意了。因此我们通常并不会把所有的数据集都拿来训练，而是分出一部分来（这一部分不参加训练）对训练集生成的参数进行测试，相对客观判断这些参数对训练集之外的数据的符合程度。这种思想称为交叉验证（Cross Validation)"
   ]
  },
  {
   "cell_type": "code",
   "execution_count": 89,
   "metadata": {},
   "outputs": [],
   "source": [
    "from sklearn.model_selection import cross_val_score\n",
    "from sklearn.metrics import mean_absolute_error, make_scorer"
   ]
  },
  {
   "cell_type": "code",
   "execution_count": 90,
   "metadata": {},
   "outputs": [],
   "source": [
    "def log_transfer(func):\n",
    "    def wrapper(y,yhat):\n",
    "        result = func(np.log(y), np.nan_to_num(np.log(yhat)))\n",
    "#         numpy.nan_to_num(x):\n",
    "# 使用0代替数组x中的nan元素，使用有限的数字代替inf元素\n",
    "        \n",
    "        return result\n",
    "    return wrapper\n"
   ]
  },
  {
   "cell_type": "code",
   "execution_count": 91,
   "metadata": {},
   "outputs": [
    {
     "name": "stderr",
     "output_type": "stream",
     "text": [
      "[Parallel(n_jobs=1)]: Using backend SequentialBackend with 1 concurrent workers.\n",
      "[Parallel(n_jobs=1)]: Done   5 out of   5 | elapsed:    0.9s finished\n"
     ]
    }
   ],
   "source": [
    "scores = cross_val_score(model, X=train_X, y=train_y, verbose =1, cv =5, scoring=make_scorer(log_transfer(mean_absolute_error)))"
   ]
  },
  {
   "cell_type": "markdown",
   "metadata": {},
   "source": [
    "使用线性回归模型，对未处理标签的特征数据进行五折交叉验证（Erro:1.36)"
   ]
  },
  {
   "cell_type": "code",
   "execution_count": 92,
   "metadata": {},
   "outputs": [
    {
     "name": "stdout",
     "output_type": "stream",
     "text": [
      "AVG: 1.3658023920313997\n"
     ]
    }
   ],
   "source": [
    "print('AVG:',np.mean(scores))"
   ]
  },
  {
   "cell_type": "markdown",
   "metadata": {},
   "source": [
    "使用线性回归模型，对处理过的标签的特征数据进行五折交叉验证（Error=0.19）"
   ]
  },
  {
   "cell_type": "code",
   "execution_count": 93,
   "metadata": {},
   "outputs": [
    {
     "name": "stderr",
     "output_type": "stream",
     "text": [
      "[Parallel(n_jobs=1)]: Using backend SequentialBackend with 1 concurrent workers.\n",
      "[Parallel(n_jobs=1)]: Done   5 out of   5 | elapsed:    0.8s finished\n"
     ]
    }
   ],
   "source": [
    "scores = cross_val_score(model,X=train_X,y=train_y_ln, verbose =1,cv =5,scoring=make_scorer(mean_absolute_error))"
   ]
  },
  {
   "cell_type": "code",
   "execution_count": 94,
   "metadata": {},
   "outputs": [
    {
     "name": "stdout",
     "output_type": "stream",
     "text": [
      "AVG: 0.19325301837047446\n"
     ]
    }
   ],
   "source": [
    "print('AVG:',np.mean(scores))"
   ]
  },
  {
   "cell_type": "code",
   "execution_count": 95,
   "metadata": {},
   "outputs": [
    {
     "data": {
      "text/html": [
       "<div>\n",
       "<style scoped>\n",
       "    .dataframe tbody tr th:only-of-type {\n",
       "        vertical-align: middle;\n",
       "    }\n",
       "\n",
       "    .dataframe tbody tr th {\n",
       "        vertical-align: top;\n",
       "    }\n",
       "\n",
       "    .dataframe thead th {\n",
       "        text-align: right;\n",
       "    }\n",
       "</style>\n",
       "<table border=\"1\" class=\"dataframe\">\n",
       "  <thead>\n",
       "    <tr style=\"text-align: right;\">\n",
       "      <th></th>\n",
       "      <th>cv1</th>\n",
       "      <th>cv2</th>\n",
       "      <th>cv3</th>\n",
       "      <th>cv4</th>\n",
       "      <th>cv5</th>\n",
       "    </tr>\n",
       "  </thead>\n",
       "  <tbody>\n",
       "    <tr>\n",
       "      <th>MAE</th>\n",
       "      <td>0.190792</td>\n",
       "      <td>0.193758</td>\n",
       "      <td>0.194132</td>\n",
       "      <td>0.191825</td>\n",
       "      <td>0.195758</td>\n",
       "    </tr>\n",
       "  </tbody>\n",
       "</table>\n",
       "</div>"
      ],
      "text/plain": [
       "          cv1       cv2       cv3       cv4       cv5\n",
       "MAE  0.190792  0.193758  0.194132  0.191825  0.195758"
      ]
     },
     "execution_count": 95,
     "metadata": {},
     "output_type": "execute_result"
    }
   ],
   "source": [
    "scores = pd.DataFrame(scores.reshape(1,-1))\n",
    "scores.columns = ['cv'+ str(x) for x in range(1,6)]\n",
    "scores.index = ['MAE']\n",
    "scores"
   ]
  },
  {
   "cell_type": "markdown",
   "metadata": {},
   "source": [
    "### 1.3 模拟真实业务情况"
   ]
  },
  {
   "cell_type": "markdown",
   "metadata": {},
   "source": [
    "但在事实上，由于我们并不具有预知未来的能力，五折交叉验证在某些与时间相关的数据集上反而反映了不真实的情况。通过2018年的二手车价格预测2017年的二手车价格，这显然是不合理的，因此我们还可以采用时间顺序对数据集进行分隔。在本例中，我们选用靠前时间的4/5样本当作训练集，靠后时间的1/5当作验证集，最终结果与五折交叉验证差距不大"
   ]
  },
  {
   "cell_type": "code",
   "execution_count": 96,
   "metadata": {},
   "outputs": [],
   "source": [
    "import datetime\n"
   ]
  },
  {
   "cell_type": "code",
   "execution_count": 97,
   "metadata": {},
   "outputs": [
    {
     "data": {
      "text/html": [
       "<div>\n",
       "<style scoped>\n",
       "    .dataframe tbody tr th:only-of-type {\n",
       "        vertical-align: middle;\n",
       "    }\n",
       "\n",
       "    .dataframe tbody tr th {\n",
       "        vertical-align: top;\n",
       "    }\n",
       "\n",
       "    .dataframe thead th {\n",
       "        text-align: right;\n",
       "    }\n",
       "</style>\n",
       "<table border=\"1\" class=\"dataframe\">\n",
       "  <thead>\n",
       "    <tr style=\"text-align: right;\">\n",
       "      <th></th>\n",
       "      <th>SaleID</th>\n",
       "      <th>bodyType</th>\n",
       "      <th>brand</th>\n",
       "      <th>fuelType</th>\n",
       "      <th>gearbox</th>\n",
       "      <th>kilometer</th>\n",
       "      <th>model</th>\n",
       "      <th>name</th>\n",
       "      <th>notRepairedDamage</th>\n",
       "      <th>offerType</th>\n",
       "      <th>...</th>\n",
       "      <th>used_time</th>\n",
       "      <th>city</th>\n",
       "      <th>brand_amount</th>\n",
       "      <th>brand_price_average</th>\n",
       "      <th>brand_price_max</th>\n",
       "      <th>brand_price_median</th>\n",
       "      <th>brand_price_min</th>\n",
       "      <th>brand_price_std</th>\n",
       "      <th>brand_price_sum</th>\n",
       "      <th>power_bin</th>\n",
       "    </tr>\n",
       "  </thead>\n",
       "  <tbody>\n",
       "    <tr>\n",
       "      <th>0</th>\n",
       "      <td>0</td>\n",
       "      <td>1.0</td>\n",
       "      <td>6</td>\n",
       "      <td>0.0</td>\n",
       "      <td>0.0</td>\n",
       "      <td>12.5</td>\n",
       "      <td>30.0</td>\n",
       "      <td>736</td>\n",
       "      <td>0.0</td>\n",
       "      <td>0</td>\n",
       "      <td>...</td>\n",
       "      <td>4384.0</td>\n",
       "      <td>1.0</td>\n",
       "      <td>10192.0</td>\n",
       "      <td>3576.0</td>\n",
       "      <td>35990.0</td>\n",
       "      <td>1800.0</td>\n",
       "      <td>13.0</td>\n",
       "      <td>4564.0</td>\n",
       "      <td>36457520.0</td>\n",
       "      <td>5.0</td>\n",
       "    </tr>\n",
       "    <tr>\n",
       "      <th>1</th>\n",
       "      <td>2</td>\n",
       "      <td>1.0</td>\n",
       "      <td>15</td>\n",
       "      <td>0.0</td>\n",
       "      <td>0.0</td>\n",
       "      <td>12.5</td>\n",
       "      <td>115.0</td>\n",
       "      <td>14874</td>\n",
       "      <td>0.0</td>\n",
       "      <td>0</td>\n",
       "      <td>...</td>\n",
       "      <td>4384.0</td>\n",
       "      <td>2.0</td>\n",
       "      <td>1458.0</td>\n",
       "      <td>9848.0</td>\n",
       "      <td>45000.0</td>\n",
       "      <td>8496.0</td>\n",
       "      <td>100.0</td>\n",
       "      <td>5424.0</td>\n",
       "      <td>14373814.0</td>\n",
       "      <td>16.0</td>\n",
       "    </tr>\n",
       "    <tr>\n",
       "      <th>2</th>\n",
       "      <td>4</td>\n",
       "      <td>1.0</td>\n",
       "      <td>5</td>\n",
       "      <td>0.0</td>\n",
       "      <td>0.0</td>\n",
       "      <td>5.0</td>\n",
       "      <td>110.0</td>\n",
       "      <td>111080</td>\n",
       "      <td>0.0</td>\n",
       "      <td>0</td>\n",
       "      <td>...</td>\n",
       "      <td>1531.0</td>\n",
       "      <td>6.0</td>\n",
       "      <td>4664.0</td>\n",
       "      <td>3306.0</td>\n",
       "      <td>31500.0</td>\n",
       "      <td>2300.0</td>\n",
       "      <td>20.0</td>\n",
       "      <td>3344.0</td>\n",
       "      <td>15414322.0</td>\n",
       "      <td>6.0</td>\n",
       "    </tr>\n",
       "    <tr>\n",
       "      <th>3</th>\n",
       "      <td>5</td>\n",
       "      <td>0.0</td>\n",
       "      <td>10</td>\n",
       "      <td>1.0</td>\n",
       "      <td>0.0</td>\n",
       "      <td>10.0</td>\n",
       "      <td>24.0</td>\n",
       "      <td>137642</td>\n",
       "      <td>0.0</td>\n",
       "      <td>0</td>\n",
       "      <td>...</td>\n",
       "      <td>2482.0</td>\n",
       "      <td>3.0</td>\n",
       "      <td>13992.0</td>\n",
       "      <td>8076.0</td>\n",
       "      <td>92900.0</td>\n",
       "      <td>5200.0</td>\n",
       "      <td>15.0</td>\n",
       "      <td>8248.0</td>\n",
       "      <td>113034208.0</td>\n",
       "      <td>10.0</td>\n",
       "    </tr>\n",
       "    <tr>\n",
       "      <th>4</th>\n",
       "      <td>6</td>\n",
       "      <td>0.0</td>\n",
       "      <td>4</td>\n",
       "      <td>0.0</td>\n",
       "      <td>1.0</td>\n",
       "      <td>15.0</td>\n",
       "      <td>13.0</td>\n",
       "      <td>2402</td>\n",
       "      <td>0.0</td>\n",
       "      <td>0</td>\n",
       "      <td>...</td>\n",
       "      <td>6184.0</td>\n",
       "      <td>3.0</td>\n",
       "      <td>16576.0</td>\n",
       "      <td>8344.0</td>\n",
       "      <td>99999.0</td>\n",
       "      <td>6000.0</td>\n",
       "      <td>12.0</td>\n",
       "      <td>8088.0</td>\n",
       "      <td>138279072.0</td>\n",
       "      <td>14.0</td>\n",
       "    </tr>\n",
       "  </tbody>\n",
       "</table>\n",
       "<p>5 rows × 39 columns</p>\n",
       "</div>"
      ],
      "text/plain": [
       "   SaleID  bodyType  brand  fuelType  gearbox  kilometer  model    name  \\\n",
       "0       0       1.0      6       0.0      0.0       12.5   30.0     736   \n",
       "1       2       1.0     15       0.0      0.0       12.5  115.0   14874   \n",
       "2       4       1.0      5       0.0      0.0        5.0  110.0  111080   \n",
       "3       5       0.0     10       1.0      0.0       10.0   24.0  137642   \n",
       "4       6       0.0      4       0.0      1.0       15.0   13.0    2402   \n",
       "\n",
       "   notRepairedDamage  offerType  ...  used_time  city  brand_amount  \\\n",
       "0                0.0          0  ...     4384.0   1.0       10192.0   \n",
       "1                0.0          0  ...     4384.0   2.0        1458.0   \n",
       "2                0.0          0  ...     1531.0   6.0        4664.0   \n",
       "3                0.0          0  ...     2482.0   3.0       13992.0   \n",
       "4                0.0          0  ...     6184.0   3.0       16576.0   \n",
       "\n",
       "   brand_price_average  brand_price_max  brand_price_median  brand_price_min  \\\n",
       "0               3576.0          35990.0              1800.0             13.0   \n",
       "1               9848.0          45000.0              8496.0            100.0   \n",
       "2               3306.0          31500.0              2300.0             20.0   \n",
       "3               8076.0          92900.0              5200.0             15.0   \n",
       "4               8344.0          99999.0              6000.0             12.0   \n",
       "\n",
       "   brand_price_std  brand_price_sum  power_bin  \n",
       "0           4564.0       36457520.0        5.0  \n",
       "1           5424.0       14373814.0       16.0  \n",
       "2           3344.0       15414322.0        6.0  \n",
       "3           8248.0      113034208.0       10.0  \n",
       "4           8088.0      138279072.0       14.0  \n",
       "\n",
       "[5 rows x 39 columns]"
      ]
     },
     "execution_count": 97,
     "metadata": {},
     "output_type": "execute_result"
    }
   ],
   "source": [
    "sample_feature.head()"
   ]
  },
  {
   "cell_type": "code",
   "execution_count": 98,
   "metadata": {},
   "outputs": [],
   "source": [
    "sample_feature = sample_feature.reset_index(drop=True) #上面代码处理过  重复操作了"
   ]
  },
  {
   "cell_type": "code",
   "execution_count": 99,
   "metadata": {},
   "outputs": [
    {
     "data": {
      "text/html": [
       "<div>\n",
       "<style scoped>\n",
       "    .dataframe tbody tr th:only-of-type {\n",
       "        vertical-align: middle;\n",
       "    }\n",
       "\n",
       "    .dataframe tbody tr th {\n",
       "        vertical-align: top;\n",
       "    }\n",
       "\n",
       "    .dataframe thead th {\n",
       "        text-align: right;\n",
       "    }\n",
       "</style>\n",
       "<table border=\"1\" class=\"dataframe\">\n",
       "  <thead>\n",
       "    <tr style=\"text-align: right;\">\n",
       "      <th></th>\n",
       "      <th>SaleID</th>\n",
       "      <th>bodyType</th>\n",
       "      <th>brand</th>\n",
       "      <th>fuelType</th>\n",
       "      <th>gearbox</th>\n",
       "      <th>kilometer</th>\n",
       "      <th>model</th>\n",
       "      <th>name</th>\n",
       "      <th>notRepairedDamage</th>\n",
       "      <th>offerType</th>\n",
       "      <th>...</th>\n",
       "      <th>used_time</th>\n",
       "      <th>city</th>\n",
       "      <th>brand_amount</th>\n",
       "      <th>brand_price_average</th>\n",
       "      <th>brand_price_max</th>\n",
       "      <th>brand_price_median</th>\n",
       "      <th>brand_price_min</th>\n",
       "      <th>brand_price_std</th>\n",
       "      <th>brand_price_sum</th>\n",
       "      <th>power_bin</th>\n",
       "    </tr>\n",
       "  </thead>\n",
       "  <tbody>\n",
       "    <tr>\n",
       "      <th>0</th>\n",
       "      <td>0</td>\n",
       "      <td>1.0</td>\n",
       "      <td>6</td>\n",
       "      <td>0.0</td>\n",
       "      <td>0.0</td>\n",
       "      <td>12.5</td>\n",
       "      <td>30.0</td>\n",
       "      <td>736</td>\n",
       "      <td>0.0</td>\n",
       "      <td>0</td>\n",
       "      <td>...</td>\n",
       "      <td>4384.0</td>\n",
       "      <td>1.0</td>\n",
       "      <td>10192.0</td>\n",
       "      <td>3576.0</td>\n",
       "      <td>35990.0</td>\n",
       "      <td>1800.0</td>\n",
       "      <td>13.0</td>\n",
       "      <td>4564.0</td>\n",
       "      <td>36457520.0</td>\n",
       "      <td>5.0</td>\n",
       "    </tr>\n",
       "    <tr>\n",
       "      <th>1</th>\n",
       "      <td>2</td>\n",
       "      <td>1.0</td>\n",
       "      <td>15</td>\n",
       "      <td>0.0</td>\n",
       "      <td>0.0</td>\n",
       "      <td>12.5</td>\n",
       "      <td>115.0</td>\n",
       "      <td>14874</td>\n",
       "      <td>0.0</td>\n",
       "      <td>0</td>\n",
       "      <td>...</td>\n",
       "      <td>4384.0</td>\n",
       "      <td>2.0</td>\n",
       "      <td>1458.0</td>\n",
       "      <td>9848.0</td>\n",
       "      <td>45000.0</td>\n",
       "      <td>8496.0</td>\n",
       "      <td>100.0</td>\n",
       "      <td>5424.0</td>\n",
       "      <td>14373814.0</td>\n",
       "      <td>16.0</td>\n",
       "    </tr>\n",
       "    <tr>\n",
       "      <th>2</th>\n",
       "      <td>4</td>\n",
       "      <td>1.0</td>\n",
       "      <td>5</td>\n",
       "      <td>0.0</td>\n",
       "      <td>0.0</td>\n",
       "      <td>5.0</td>\n",
       "      <td>110.0</td>\n",
       "      <td>111080</td>\n",
       "      <td>0.0</td>\n",
       "      <td>0</td>\n",
       "      <td>...</td>\n",
       "      <td>1531.0</td>\n",
       "      <td>6.0</td>\n",
       "      <td>4664.0</td>\n",
       "      <td>3306.0</td>\n",
       "      <td>31500.0</td>\n",
       "      <td>2300.0</td>\n",
       "      <td>20.0</td>\n",
       "      <td>3344.0</td>\n",
       "      <td>15414322.0</td>\n",
       "      <td>6.0</td>\n",
       "    </tr>\n",
       "    <tr>\n",
       "      <th>3</th>\n",
       "      <td>5</td>\n",
       "      <td>0.0</td>\n",
       "      <td>10</td>\n",
       "      <td>1.0</td>\n",
       "      <td>0.0</td>\n",
       "      <td>10.0</td>\n",
       "      <td>24.0</td>\n",
       "      <td>137642</td>\n",
       "      <td>0.0</td>\n",
       "      <td>0</td>\n",
       "      <td>...</td>\n",
       "      <td>2482.0</td>\n",
       "      <td>3.0</td>\n",
       "      <td>13992.0</td>\n",
       "      <td>8076.0</td>\n",
       "      <td>92900.0</td>\n",
       "      <td>5200.0</td>\n",
       "      <td>15.0</td>\n",
       "      <td>8248.0</td>\n",
       "      <td>113034208.0</td>\n",
       "      <td>10.0</td>\n",
       "    </tr>\n",
       "    <tr>\n",
       "      <th>4</th>\n",
       "      <td>6</td>\n",
       "      <td>0.0</td>\n",
       "      <td>4</td>\n",
       "      <td>0.0</td>\n",
       "      <td>1.0</td>\n",
       "      <td>15.0</td>\n",
       "      <td>13.0</td>\n",
       "      <td>2402</td>\n",
       "      <td>0.0</td>\n",
       "      <td>0</td>\n",
       "      <td>...</td>\n",
       "      <td>6184.0</td>\n",
       "      <td>3.0</td>\n",
       "      <td>16576.0</td>\n",
       "      <td>8344.0</td>\n",
       "      <td>99999.0</td>\n",
       "      <td>6000.0</td>\n",
       "      <td>12.0</td>\n",
       "      <td>8088.0</td>\n",
       "      <td>138279072.0</td>\n",
       "      <td>14.0</td>\n",
       "    </tr>\n",
       "  </tbody>\n",
       "</table>\n",
       "<p>5 rows × 39 columns</p>\n",
       "</div>"
      ],
      "text/plain": [
       "   SaleID  bodyType  brand  fuelType  gearbox  kilometer  model    name  \\\n",
       "0       0       1.0      6       0.0      0.0       12.5   30.0     736   \n",
       "1       2       1.0     15       0.0      0.0       12.5  115.0   14874   \n",
       "2       4       1.0      5       0.0      0.0        5.0  110.0  111080   \n",
       "3       5       0.0     10       1.0      0.0       10.0   24.0  137642   \n",
       "4       6       0.0      4       0.0      1.0       15.0   13.0    2402   \n",
       "\n",
       "   notRepairedDamage  offerType  ...  used_time  city  brand_amount  \\\n",
       "0                0.0          0  ...     4384.0   1.0       10192.0   \n",
       "1                0.0          0  ...     4384.0   2.0        1458.0   \n",
       "2                0.0          0  ...     1531.0   6.0        4664.0   \n",
       "3                0.0          0  ...     2482.0   3.0       13992.0   \n",
       "4                0.0          0  ...     6184.0   3.0       16576.0   \n",
       "\n",
       "   brand_price_average  brand_price_max  brand_price_median  brand_price_min  \\\n",
       "0               3576.0          35990.0              1800.0             13.0   \n",
       "1               9848.0          45000.0              8496.0            100.0   \n",
       "2               3306.0          31500.0              2300.0             20.0   \n",
       "3               8076.0          92900.0              5200.0             15.0   \n",
       "4               8344.0          99999.0              6000.0             12.0   \n",
       "\n",
       "   brand_price_std  brand_price_sum  power_bin  \n",
       "0           4564.0       36457520.0        5.0  \n",
       "1           5424.0       14373814.0       16.0  \n",
       "2           3344.0       15414322.0        6.0  \n",
       "3           8248.0      113034208.0       10.0  \n",
       "4           8088.0      138279072.0       14.0  \n",
       "\n",
       "[5 rows x 39 columns]"
      ]
     },
     "execution_count": 99,
     "metadata": {},
     "output_type": "execute_result"
    }
   ],
   "source": [
    "sample_feature.head()"
   ]
  },
  {
   "cell_type": "code",
   "execution_count": 100,
   "metadata": {},
   "outputs": [],
   "source": [
    "split_point = (len(sample_feature) // 5) * 4\n"
   ]
  },
  {
   "cell_type": "code",
   "execution_count": 101,
   "metadata": {},
   "outputs": [],
   "source": [
    "train = sample_feature.loc[:split_point].dropna()\n",
    "val = sample_feature.loc[split_point:].dropna()\n",
    "\n",
    "train_X = train[continuous_feature_names]\n",
    "train_y_ln = np.log(train['price'] + 1)\n",
    "val_X = val[continuous_feature_names]\n",
    "val_y_ln = np.log(val['price'] +1)"
   ]
  },
  {
   "cell_type": "code",
   "execution_count": 102,
   "metadata": {},
   "outputs": [],
   "source": [
    "model = model.fit(train_X,train_y_ln)"
   ]
  },
  {
   "cell_type": "code",
   "execution_count": 103,
   "metadata": {},
   "outputs": [
    {
     "data": {
      "text/plain": [
       "0.19577667270300972"
      ]
     },
     "execution_count": 103,
     "metadata": {},
     "output_type": "execute_result"
    }
   ],
   "source": [
    "mean_absolute_error(val_y_ln, model.predict(val_X))"
   ]
  },
  {
   "cell_type": "markdown",
   "metadata": {},
   "source": [
    "### 1.4 绘制学习率曲线与验证曲线"
   ]
  },
  {
   "cell_type": "code",
   "execution_count": 104,
   "metadata": {},
   "outputs": [],
   "source": [
    "from sklearn.model_selection import learning_curve, validation_curve"
   ]
  },
  {
   "cell_type": "code",
   "execution_count": 105,
   "metadata": {},
   "outputs": [
    {
     "data": {
      "text/plain": [
       "array([0.1  , 0.325, 0.55 , 0.775, 1.   ])"
      ]
     },
     "execution_count": 105,
     "metadata": {},
     "output_type": "execute_result"
    }
   ],
   "source": [
    "np.linspace(.1, 1.0, 5 )"
   ]
  },
  {
   "cell_type": "code",
   "execution_count": 106,
   "metadata": {},
   "outputs": [],
   "source": [
    "def plot_learning_curve(estimator, title, X, y, ylim=None, cv=None,n_jobs=1, train_size=np.linspace(.1, 1.0, 5 )):  \n",
    "    plt.figure()  \n",
    "    plt.title(title)  \n",
    "    if ylim is not None:  \n",
    "        plt.ylim(*ylim)  \n",
    "    plt.xlabel('Training example')  \n",
    "    plt.ylabel('score')  \n",
    "    train_sizes, train_scores, test_scores = learning_curve(estimator, X, y, cv=cv, n_jobs=n_jobs, train_sizes=train_size, scoring = make_scorer(mean_absolute_error))  \n",
    "    train_scores_mean = np.mean(train_scores, axis=1)  \n",
    "    train_scores_std = np.std(train_scores, axis=1)  \n",
    "    test_scores_mean = np.mean(test_scores, axis=1)  \n",
    "    test_scores_std = np.std(test_scores, axis=1)  \n",
    "    plt.grid()#区域  \n",
    "    plt.fill_between(train_sizes, train_scores_mean - train_scores_std,  \n",
    "                     train_scores_mean + train_scores_std, alpha=0.1,  \n",
    "                     color=\"r\")  \n",
    "    plt.fill_between(train_sizes, test_scores_mean - test_scores_std,  \n",
    "                     test_scores_mean + test_scores_std, alpha=0.1,  \n",
    "                     color=\"g\")  \n",
    "    plt.plot(train_sizes, train_scores_mean, 'o-', color='r',  \n",
    "             label=\"Training score\")  \n",
    "    plt.plot(train_sizes, test_scores_mean,'o-',color=\"g\",  \n",
    "             label=\"Cross-validation score\")  \n",
    "    plt.legend(loc=\"best\")  \n",
    "    return plt  "
   ]
  },
  {
   "cell_type": "code",
   "execution_count": 107,
   "metadata": {},
   "outputs": [
    {
     "data": {
      "text/plain": [
       "<module 'matplotlib.pyplot' from 'E:\\\\Anaconda3\\\\lib\\\\site-packages\\\\matplotlib\\\\pyplot.py'>"
      ]
     },
     "execution_count": 107,
     "metadata": {},
     "output_type": "execute_result"
    },
    {
     "data": {
      "image/png": "[encoded data removed]",
      "text/plain": [
       "<Figure size 432x288 with 1 Axes>"
      ]
     },
     "metadata": {
      "needs_background": "light"
     },
     "output_type": "display_data"
    }
   ],
   "source": [
    "plot_learning_curve(LinearRegression(),'Linear_model', train_X[:1000],train_y_ln[:1000],ylim=(0.0,0.5),cv=5,n_jobs=1)"
   ]
  },
  {
   "cell_type": "markdown",
   "metadata": {},
   "source": [
    "## 3.多种模型对比"
   ]
  },
  {
   "cell_type": "code",
   "execution_count": 108,
   "metadata": {},
   "outputs": [],
   "source": [
    "\n",
    "train =sample_feature[continuous_feature_names + ['price']].dropna()\n",
    "\n",
    "train_X = train[continuous_feature_names]\n",
    "train_y = train['price']\n",
    "train_y_ln = np.log(train_y + 1)"
   ]
  },
  {
   "cell_type": "markdown",
   "metadata": {},
   "source": [
    "### 3.1 线性模型&嵌入式特征选择"
   ]
  },
  {
   "cell_type": "markdown",
   "metadata": {},
   "source": [
    "用简单易懂的语言描述「过拟合 overfitting」？ https://www.zhihu.com/question/32246256/answer/55320482\n",
    "模型复杂度与模型的泛化能力 http://yangyingming.com/article/434/\n",
    "正则化的直观理解 https://blog.csdn.net/jinping_shi/article/details/52433975\n",
    "在过滤式和包裹式特征选择方法中，特征选择过程与学习器训练过程有明显的分别。而嵌入式特征选择在学习器训练过程中自动地进行特征选择。嵌入式选择最常用的是L1正则化与L2正则化。在对线性回归模型加入两种正则化方法后，他们分别变成了岭回归与Lasso回归。"
   ]
  },
  {
   "cell_type": "code",
   "execution_count": 109,
   "metadata": {},
   "outputs": [],
   "source": [
    "from sklearn.linear_model import LinearRegression\n",
    "from sklearn.linear_model import Ridge\n",
    "from sklearn.linear_model import Lasso"
   ]
  },
  {
   "cell_type": "code",
   "execution_count": 110,
   "metadata": {},
   "outputs": [],
   "source": [
    "models = [LinearRegression(),\n",
    "         Ridge(),\n",
    "         Lasso()]"
   ]
  },
  {
   "cell_type": "code",
   "execution_count": 111,
   "metadata": {},
   "outputs": [
    {
     "name": "stdout",
     "output_type": "stream",
     "text": [
      "LinearRegressionis finished\n",
      "Ridgeis finished\n",
      "Lassois finished\n"
     ]
    }
   ],
   "source": [
    "result = dict()\n",
    "for model in models:\n",
    "    model_name = str(model).split('(')[0]\n",
    "    scores = cross_val_score(model, X=train_X, y=train_y_ln, verbose =0, cv =5,scoring=make_scorer(mean_absolute_error))\n",
    "    result[model_name] = scores\n",
    "    print(model_name + 'is finished')"
   ]
  },
  {
   "cell_type": "markdown",
   "metadata": {},
   "source": [
    "对三种方法的效果对比"
   ]
  },
  {
   "cell_type": "code",
   "execution_count": 112,
   "metadata": {},
   "outputs": [
    {
     "data": {
      "text/html": [
       "<div>\n",
       "<style scoped>\n",
       "    .dataframe tbody tr th:only-of-type {\n",
       "        vertical-align: middle;\n",
       "    }\n",
       "\n",
       "    .dataframe tbody tr th {\n",
       "        vertical-align: top;\n",
       "    }\n",
       "\n",
       "    .dataframe thead th {\n",
       "        text-align: right;\n",
       "    }\n",
       "</style>\n",
       "<table border=\"1\" class=\"dataframe\">\n",
       "  <thead>\n",
       "    <tr style=\"text-align: right;\">\n",
       "      <th></th>\n",
       "      <th>LinearRegression</th>\n",
       "      <th>Ridge</th>\n",
       "      <th>Lasso</th>\n",
       "    </tr>\n",
       "  </thead>\n",
       "  <tbody>\n",
       "    <tr>\n",
       "      <th>cv1</th>\n",
       "      <td>0.190792</td>\n",
       "      <td>0.194832</td>\n",
       "      <td>0.383899</td>\n",
       "    </tr>\n",
       "    <tr>\n",
       "      <th>cv2</th>\n",
       "      <td>0.193758</td>\n",
       "      <td>0.197632</td>\n",
       "      <td>0.381894</td>\n",
       "    </tr>\n",
       "    <tr>\n",
       "      <th>cv3</th>\n",
       "      <td>0.194132</td>\n",
       "      <td>0.198123</td>\n",
       "      <td>0.384090</td>\n",
       "    </tr>\n",
       "    <tr>\n",
       "      <th>cv4</th>\n",
       "      <td>0.191825</td>\n",
       "      <td>0.195670</td>\n",
       "      <td>0.380526</td>\n",
       "    </tr>\n",
       "    <tr>\n",
       "      <th>cv5</th>\n",
       "      <td>0.195758</td>\n",
       "      <td>0.199676</td>\n",
       "      <td>0.383611</td>\n",
       "    </tr>\n",
       "  </tbody>\n",
       "</table>\n",
       "</div>"
      ],
      "text/plain": [
       "     LinearRegression     Ridge     Lasso\n",
       "cv1          0.190792  0.194832  0.383899\n",
       "cv2          0.193758  0.197632  0.381894\n",
       "cv3          0.194132  0.198123  0.384090\n",
       "cv4          0.191825  0.195670  0.380526\n",
       "cv5          0.195758  0.199676  0.383611"
      ]
     },
     "execution_count": 112,
     "metadata": {},
     "output_type": "execute_result"
    }
   ],
   "source": [
    "result = pd.DataFrame(result)\n",
    "result.index = ['cv'+str(x) for x in range(1,6)]\n",
    "result"
   ]
  },
  {
   "cell_type": "code",
   "execution_count": 113,
   "metadata": {},
   "outputs": [
    {
     "name": "stdout",
     "output_type": "stream",
     "text": [
      "intercept:18.75074946216287\n"
     ]
    },
    {
     "data": {
      "text/plain": [
       "<matplotlib.axes._subplots.AxesSubplot at 0x23c02b20a90>"
      ]
     },
     "execution_count": 113,
     "metadata": {},
     "output_type": "execute_result"
    },
    {
     "data": {
      "image/png": "[encoded data removed]",
      "text/plain": [
       "<Figure size 432x288 with 1 Axes>"
      ]
     },
     "metadata": {
      "needs_background": "light"
     },
     "output_type": "display_data"
    }
   ],
   "source": [
    "model = LinearRegression().fit(train_X,train_y_ln)\n",
    "print('intercept:' +str(model.intercept_))\n",
    "sns.barplot(abs(model.coef_),continuous_feature_names)"
   ]
  },
  {
   "cell_type": "markdown",
   "metadata": {},
   "source": [
    "L2正则化在拟合过程中通常都倾向于权值尽可能小，最后构造一个所有参数都比较小的模型，因为一般认为参数值小的模型比较简单，能适应不同的数据集，也在一定程度上避免了过拟合现象。可以设想一下对于一个线性回归方程，若参数很大，那么只要数据偏移一点点，就会对结果造成很大影响；单如果参数足够小，数据偏移得多一点也不会对结果造成什么影响，专业一点的说法是【鲁棒性强】"
   ]
  },
  {
   "cell_type": "code",
   "execution_count": 114,
   "metadata": {},
   "outputs": [
    {
     "name": "stdout",
     "output_type": "stream",
     "text": [
      "intercept :4.671709788228464\n"
     ]
    },
    {
     "data": {
      "text/plain": [
       "<matplotlib.axes._subplots.AxesSubplot at 0x23c0286ee10>"
      ]
     },
     "execution_count": 114,
     "metadata": {},
     "output_type": "execute_result"
    },
    {
     "data": {
      "image/png": "[encoded data removed]",
      "text/plain": [
       "<Figure size 432x288 with 1 Axes>"
      ]
     },
     "metadata": {
      "needs_background": "light"
     },
     "output_type": "display_data"
    }
   ],
   "source": [
    "model = Ridge().fit(train_X,train_y_ln)\n",
    "print('intercept :'+ str(model.intercept_))\n",
    "sns.barplot(abs(model.coef_), continuous_feature_names)"
   ]
  },
  {
   "cell_type": "markdown",
   "metadata": {},
   "source": [
    " L1 正则化有助于生产一个稀疏矩阵，进而可以用于特征选择。如下图，我们发现power与userd_time特征非常重要"
   ]
  },
  {
   "cell_type": "code",
   "execution_count": 115,
   "metadata": {},
   "outputs": [
    {
     "name": "stdout",
     "output_type": "stream",
     "text": [
      "intercept:8.672184761637329\n"
     ]
    },
    {
     "data": {
      "text/plain": [
       "<matplotlib.axes._subplots.AxesSubplot at 0x23c029a5ac8>"
      ]
     },
     "execution_count": 115,
     "metadata": {},
     "output_type": "execute_result"
    },
    {
     "data": {
      "image/png": "[encoded data removed]",
      "text/plain": [
       "<Figure size 432x288 with 1 Axes>"
      ]
     },
     "metadata": {
      "needs_background": "light"
     },
     "output_type": "display_data"
    }
   ],
   "source": [
    "model = Lasso().fit(train_X,train_y_ln)\n",
    "print('intercept:'+str(model.intercept_))\n",
    "sns.barplot(abs(model.coef_), continuous_feature_names)"
   ]
  },
  {
   "cell_type": "markdown",
   "metadata": {},
   "source": [
    "除此之外，决策树通过信息熵或GINI指数选择分裂节点时，优先选择的分裂特征也更加重要，这同样是一种特征选择的方法。XGBoost与LightGBM模型的model_importance指标正是基于计算的"
   ]
  },
  {
   "cell_type": "markdown",
   "metadata": {},
   "source": [
    "## 3.2 非线性模型"
   ]
  },
  {
   "cell_type": "markdown",
   "metadata": {},
   "source": [
    "除了线性模型以外，还有许多我们常用的非线性模型如下，我们选择了部分常用模型与线性模型进行效果比对。"
   ]
  },
  {
   "cell_type": "code",
   "execution_count": 117,
   "metadata": {},
   "outputs": [],
   "source": [
    "from sklearn.linear_model import LinearRegression\n",
    "from sklearn.svm import SVC\n",
    "from sklearn.tree import DecisionTreeRegressor\n",
    "from sklearn.ensemble import RandomForestRegressor\n",
    "from sklearn.ensemble import GradientBoostingRegressor\n",
    "from sklearn.neural_network import MLPRegressor\n",
    "from xgboost.sklearn import XGBRegressor\n",
    "from lightgbm.sklearn import LGBMRegressor"
   ]
  },
  {
   "cell_type": "code",
   "execution_count": 118,
   "metadata": {},
   "outputs": [],
   "source": [
    "models = [LinearRegression(),\n",
    "         DecisionTreeRegressor(),\n",
    "         RandomForestRegressor(),\n",
    "         GradientBoostingRegressor(),\n",
    "         MLPRegressor(solver= 'lbfgs', max_iter=100),\n",
    "         XGBRegressor(n_estimators = 100, objective= 'reg:squarederror'),\n",
    "          LGBMRegressor(n_estimators=100)\n",
    "         ]"
   ]
  },
  {
   "cell_type": "code",
   "execution_count": 119,
   "metadata": {},
   "outputs": [
    {
     "name": "stdout",
     "output_type": "stream",
     "text": [
      "LinearRegressionis finished\n",
      "DecisionTreeRegressoris finished\n",
      "RandomForestRegressoris finished\n",
      "GradientBoostingRegressoris finished\n",
      "MLPRegressoris finished\n",
      "XGBRegressoris finished\n",
      "LGBMRegressoris finished\n"
     ]
    }
   ],
   "source": [
    "result = dict()\n",
    "for model in models:\n",
    "    model_name =str(model).split('(')[0]\n",
    "    scores = cross_val_score(model, X=train_X, y= train_y_ln,verbose=0, cv=5, scoring=make_scorer(mean_absolute_error))\n",
    "    result[model_name] = scores\n",
    "    print(model_name + 'is finished')\n",
    "    "
   ]
  },
  {
   "cell_type": "code",
   "execution_count": 121,
   "metadata": {},
   "outputs": [
    {
     "data": {
      "text/html": [
       "<div>\n",
       "<style scoped>\n",
       "    .dataframe tbody tr th:only-of-type {\n",
       "        vertical-align: middle;\n",
       "    }\n",
       "\n",
       "    .dataframe tbody tr th {\n",
       "        vertical-align: top;\n",
       "    }\n",
       "\n",
       "    .dataframe thead th {\n",
       "        text-align: right;\n",
       "    }\n",
       "</style>\n",
       "<table border=\"1\" class=\"dataframe\">\n",
       "  <thead>\n",
       "    <tr style=\"text-align: right;\">\n",
       "      <th></th>\n",
       "      <th>LinearRegression</th>\n",
       "      <th>DecisionTreeRegressor</th>\n",
       "      <th>RandomForestRegressor</th>\n",
       "      <th>GradientBoostingRegressor</th>\n",
       "      <th>MLPRegressor</th>\n",
       "      <th>XGBRegressor</th>\n",
       "      <th>LGBMRegressor</th>\n",
       "    </tr>\n",
       "  </thead>\n",
       "  <tbody>\n",
       "    <tr>\n",
       "      <th>cv1</th>\n",
       "      <td>0.190792</td>\n",
       "      <td>0.196540</td>\n",
       "      <td>0.142357</td>\n",
       "      <td>0.168900</td>\n",
       "      <td>268.050570</td>\n",
       "      <td>0.142322</td>\n",
       "      <td>0.141545</td>\n",
       "    </tr>\n",
       "    <tr>\n",
       "      <th>cv2</th>\n",
       "      <td>0.193758</td>\n",
       "      <td>0.193093</td>\n",
       "      <td>0.141947</td>\n",
       "      <td>0.171831</td>\n",
       "      <td>191.073294</td>\n",
       "      <td>0.140988</td>\n",
       "      <td>0.145501</td>\n",
       "    </tr>\n",
       "    <tr>\n",
       "      <th>cv3</th>\n",
       "      <td>0.194132</td>\n",
       "      <td>0.189408</td>\n",
       "      <td>0.142753</td>\n",
       "      <td>0.170929</td>\n",
       "      <td>1132.544790</td>\n",
       "      <td>0.139266</td>\n",
       "      <td>0.143887</td>\n",
       "    </tr>\n",
       "    <tr>\n",
       "      <th>cv4</th>\n",
       "      <td>0.191825</td>\n",
       "      <td>0.189907</td>\n",
       "      <td>0.141221</td>\n",
       "      <td>0.169064</td>\n",
       "      <td>90.904224</td>\n",
       "      <td>0.137399</td>\n",
       "      <td>0.142497</td>\n",
       "    </tr>\n",
       "    <tr>\n",
       "      <th>cv5</th>\n",
       "      <td>0.195758</td>\n",
       "      <td>0.205030</td>\n",
       "      <td>0.144725</td>\n",
       "      <td>0.174072</td>\n",
       "      <td>701.015413</td>\n",
       "      <td>0.143997</td>\n",
       "      <td>0.144852</td>\n",
       "    </tr>\n",
       "  </tbody>\n",
       "</table>\n",
       "</div>"
      ],
      "text/plain": [
       "     LinearRegression  DecisionTreeRegressor  RandomForestRegressor  \\\n",
       "cv1          0.190792               0.196540               0.142357   \n",
       "cv2          0.193758               0.193093               0.141947   \n",
       "cv3          0.194132               0.189408               0.142753   \n",
       "cv4          0.191825               0.189907               0.141221   \n",
       "cv5          0.195758               0.205030               0.144725   \n",
       "\n",
       "     GradientBoostingRegressor  MLPRegressor  XGBRegressor  LGBMRegressor  \n",
       "cv1                   0.168900    268.050570      0.142322       0.141545  \n",
       "cv2                   0.171831    191.073294      0.140988       0.145501  \n",
       "cv3                   0.170929   1132.544790      0.139266       0.143887  \n",
       "cv4                   0.169064     90.904224      0.137399       0.142497  \n",
       "cv5                   0.174072    701.015413      0.143997       0.144852  "
      ]
     },
     "execution_count": 121,
     "metadata": {},
     "output_type": "execute_result"
    }
   ],
   "source": [
    "result = pd.DataFrame(result)\n",
    "result.index = ['cv' + str(x) for x in range(1,6)]\n",
    "result"
   ]
  },
  {
   "cell_type": "markdown",
   "metadata": {},
   "source": [
    "可以看到随机森林在每一个fold中均取得了更好的效果"
   ]
  },
  {
   "cell_type": "markdown",
   "metadata": {},
   "source": [
    "## 4.模型调参"
   ]
  },
  {
   "cell_type": "markdown",
   "metadata": {},
   "source": [
    "在此我们介绍了三种常用的调参方法如下：\n",
    "贪心算法 https://www.jianshu.com/p/ab89df9759c8\n",
    "网格调参 https://blog.csdn.net/weixin_43172660/article/details/83032029\n",
    "贝叶斯调参 https://blog.csdn.net/linxid/article/details/81189154\n",
    "\n"
   ]
  },
  {
   "cell_type": "code",
   "execution_count": 122,
   "metadata": {},
   "outputs": [],
   "source": [
    "## LGB的参数集合：\n",
    "objective = ['regression','regression_l1','mape','huber','fair']\n",
    "\n",
    "num_leaves  =[3,5,10,15,20,40,55]\n",
    "max_depth = [3,5,10,15,20,40,55]\n",
    "bagging_fraction = []\n",
    "feature_fraction = []\n",
    "dop_rate = []"
   ]
  },
  {
   "cell_type": "markdown",
   "metadata": {},
   "source": [
    "### 4.1 贪心调参"
   ]
  },
  {
   "cell_type": "code",
   "execution_count": 123,
   "metadata": {},
   "outputs": [],
   "source": [
    "best_obj = dict()\n",
    "for obj in objective:\n",
    "    model = LGBMRegressor(objective=obj)\n",
    "    score = np.mean(cross_val_score(model, X=train_X, y=train_y_ln, verbose=0, cv = 5, scoring=make_scorer(mean_absolute_error)))\n",
    "    best_obj[obj] = score\n",
    "    \n",
    "best_leaves = dict()\n",
    "for leaves in num_leaves:\n",
    "    model = LGBMRegressor(objective=min(best_obj.items(), key=lambda x:x[1])[0], num_leaves=leaves)\n",
    "    score = np.mean(cross_val_score(model, X=train_X, y=train_y_ln, verbose=0, cv = 5, scoring=make_scorer(mean_absolute_error)))\n",
    "    best_leaves[leaves] = score\n",
    "    \n",
    "best_depth = dict()\n",
    "for depth in max_depth:\n",
    "    model = LGBMRegressor(objective=min(best_obj.items(), key=lambda x:x[1])[0],\n",
    "                          num_leaves=min(best_leaves.items(), key=lambda x:x[1])[0],\n",
    "                          max_depth=depth)\n",
    "    score = np.mean(cross_val_score(model, X=train_X, y=train_y_ln, verbose=0, cv = 5, scoring=make_scorer(mean_absolute_error)))\n",
    "    best_depth[depth] = score"
   ]
  },
  {
   "cell_type": "code",
   "execution_count": 124,
   "metadata": {},
   "outputs": [
    {
     "data": {
      "text/plain": [
       "<matplotlib.axes._subplots.AxesSubplot at 0x23c01daf5f8>"
      ]
     },
     "execution_count": 124,
     "metadata": {},
     "output_type": "execute_result"
    },
    {
     "data": {
      "image/png": "[encoded data removed]",
      "text/plain": [
       "<Figure size 432x288 with 1 Axes>"
      ]
     },
     "metadata": {
      "needs_background": "light"
     },
     "output_type": "display_data"
    }
   ],
   "source": [
    "sns.lineplot(x=['0_initial','1_turning_obj','2_turning_leaves','3_turning_depth'], y=[0.143 ,min(best_obj.values()), min(best_leaves.values()), min(best_depth.values())])"
   ]
  },
  {
   "cell_type": "markdown",
   "metadata": {},
   "source": [
    "### 4.2 Grid Search 调参"
   ]
  },
  {
   "cell_type": "code",
   "execution_count": 125,
   "metadata": {},
   "outputs": [],
   "source": [
    "from sklearn.model_selection import GridSearchCV"
   ]
  },
  {
   "cell_type": "code",
   "execution_count": 126,
   "metadata": {},
   "outputs": [],
   "source": [
    "parameters = {'objective': objective , 'num_leaves': num_leaves, 'max_depth': max_depth}\n",
    "model = LGBMRegressor()\n",
    "clf = GridSearchCV(model, parameters, cv=5)\n",
    "clf = clf.fit(train_X, train_y)"
   ]
  },
  {
   "cell_type": "code",
   "execution_count": 127,
   "metadata": {},
   "outputs": [
    {
     "data": {
      "text/plain": [
       "{'max_depth': 15, 'num_leaves': 55, 'objective': 'regression'}"
      ]
     },
     "execution_count": 127,
     "metadata": {},
     "output_type": "execute_result"
    }
   ],
   "source": [
    "clf.best_params_"
   ]
  },
  {
   "cell_type": "code",
   "execution_count": 128,
   "metadata": {},
   "outputs": [],
   "source": [
    "model = LGBMRegressor(objective='regression',\n",
    "                          num_leaves=55,\n",
    "                          max_depth=15)"
   ]
  },
  {
   "cell_type": "code",
   "execution_count": 129,
   "metadata": {},
   "outputs": [
    {
     "data": {
      "text/plain": [
       "0.1375496833628979"
      ]
     },
     "execution_count": 129,
     "metadata": {},
     "output_type": "execute_result"
    }
   ],
   "source": [
    "np.mean(cross_val_score(model, X=train_X, y=train_y_ln, verbose=0, cv = 5, scoring=make_scorer(mean_absolute_error)))"
   ]
  },
  {
   "cell_type": "markdown",
   "metadata": {},
   "source": [
    "### 4.3贝叶斯调参"
   ]
  },
  {
   "cell_type": "code",
   "execution_count": 131,
   "metadata": {},
   "outputs": [],
   "source": [
    "from bayes_opt import BayesianOptimization"
   ]
  },
  {
   "cell_type": "code",
   "execution_count": 132,
   "metadata": {},
   "outputs": [],
   "source": [
    "def rf_cv(num_leaves, max_depth, subsample, min_child_samples):\n",
    "    val = cross_val_score(\n",
    "        LGBMRegressor(objective = 'regression_l1',\n",
    "            num_leaves=int(num_leaves),\n",
    "            max_depth=int(max_depth),\n",
    "            subsample = subsample,\n",
    "            min_child_samples = int(min_child_samples)\n",
    "        ),\n",
    "        X=train_X, y=train_y_ln, verbose=0, cv = 5, scoring=make_scorer(mean_absolute_error)\n",
    "    ).mean()\n",
    "    return 1 - val"
   ]
  },
  {
   "cell_type": "code",
   "execution_count": 133,
   "metadata": {},
   "outputs": [],
   "source": [
    "rf_bo = BayesianOptimization(\n",
    "    rf_cv,\n",
    "    {\n",
    "    'num_leaves': (2, 100),\n",
    "    'max_depth': (2, 100),\n",
    "    'subsample': (0.1, 1),\n",
    "    'min_child_samples' : (2, 100)\n",
    "    }\n",
    ")"
   ]
  },
  {
   "cell_type": "code",
   "execution_count": 134,
   "metadata": {},
   "outputs": [
    {
     "name": "stdout",
     "output_type": "stream",
     "text": [
      "|   iter    |  target   | max_depth | min_ch... | num_le... | subsample |\n",
      "-------------------------------------------------------------------------\n",
      "| \u001b[0m 1       \u001b[0m | \u001b[0m 0.866   \u001b[0m | \u001b[0m 64.98   \u001b[0m | \u001b[0m 95.48   \u001b[0m | \u001b[0m 65.67   \u001b[0m | \u001b[0m 0.7667  \u001b[0m |\n",
      "| \u001b[0m 2       \u001b[0m | \u001b[0m 0.8603  \u001b[0m | \u001b[0m 81.78   \u001b[0m | \u001b[0m 81.2    \u001b[0m | \u001b[0m 38.37   \u001b[0m | \u001b[0m 0.7685  \u001b[0m |\n",
      "| \u001b[95m 3       \u001b[0m | \u001b[95m 0.868   \u001b[0m | \u001b[95m 60.59   \u001b[0m | \u001b[95m 93.8    \u001b[0m | \u001b[95m 83.2    \u001b[0m | \u001b[95m 0.3332  \u001b[0m |\n",
      "| \u001b[0m 4       \u001b[0m | \u001b[0m 0.8676  \u001b[0m | \u001b[0m 31.05   \u001b[0m | \u001b[0m 56.78   \u001b[0m | \u001b[0m 78.17   \u001b[0m | \u001b[0m 0.6161  \u001b[0m |\n",
      "| \u001b[0m 5       \u001b[0m | \u001b[0m 0.8674  \u001b[0m | \u001b[0m 74.57   \u001b[0m | \u001b[0m 28.14   \u001b[0m | \u001b[0m 77.41   \u001b[0m | \u001b[0m 0.3526  \u001b[0m |\n",
      "| \u001b[0m 6       \u001b[0m | \u001b[0m 0.8674  \u001b[0m | \u001b[0m 44.77   \u001b[0m | \u001b[0m 81.13   \u001b[0m | \u001b[0m 75.98   \u001b[0m | \u001b[0m 0.4201  \u001b[0m |\n",
      "| \u001b[0m 7       \u001b[0m | \u001b[0m 0.8405  \u001b[0m | \u001b[0m 4.481   \u001b[0m | \u001b[0m 4.158   \u001b[0m | \u001b[0m 99.87   \u001b[0m | \u001b[0m 0.5504  \u001b[0m |\n",
      "| \u001b[0m 8       \u001b[0m | \u001b[0m 0.7719  \u001b[0m | \u001b[0m 4.455   \u001b[0m | \u001b[0m 14.49   \u001b[0m | \u001b[0m 2.535   \u001b[0m | \u001b[0m 0.7319  \u001b[0m |\n",
      "| \u001b[95m 9       \u001b[0m | \u001b[95m 0.869   \u001b[0m | \u001b[95m 98.77   \u001b[0m | \u001b[95m 40.59   \u001b[0m | \u001b[95m 99.44   \u001b[0m | \u001b[95m 0.8274  \u001b[0m |\n",
      "| \u001b[0m 10      \u001b[0m | \u001b[0m 0.8065  \u001b[0m | \u001b[0m 2.523   \u001b[0m | \u001b[0m 94.82   \u001b[0m | \u001b[0m 99.71   \u001b[0m | \u001b[0m 0.1926  \u001b[0m |\n",
      "| \u001b[95m 11      \u001b[0m | \u001b[95m 0.8694  \u001b[0m | \u001b[95m 55.08   \u001b[0m | \u001b[95m 48.7    \u001b[0m | \u001b[95m 99.05   \u001b[0m | \u001b[95m 0.9025  \u001b[0m |\n",
      "| \u001b[0m 12      \u001b[0m | \u001b[0m 0.8689  \u001b[0m | \u001b[0m 55.2    \u001b[0m | \u001b[0m 46.71   \u001b[0m | \u001b[0m 95.7    \u001b[0m | \u001b[0m 0.7156  \u001b[0m |\n",
      "| \u001b[0m 13      \u001b[0m | \u001b[0m 0.8675  \u001b[0m | \u001b[0m 99.98   \u001b[0m | \u001b[0m 82.19   \u001b[0m | \u001b[0m 78.72   \u001b[0m | \u001b[0m 0.9071  \u001b[0m |\n",
      "| \u001b[0m 14      \u001b[0m | \u001b[0m 0.8273  \u001b[0m | \u001b[0m 97.68   \u001b[0m | \u001b[0m 2.138   \u001b[0m | \u001b[0m 6.734   \u001b[0m | \u001b[0m 0.9986  \u001b[0m |\n",
      "| \u001b[0m 15      \u001b[0m | \u001b[0m 0.8687  \u001b[0m | \u001b[0m 96.56   \u001b[0m | \u001b[0m 3.137   \u001b[0m | \u001b[0m 92.71   \u001b[0m | \u001b[0m 0.1573  \u001b[0m |\n",
      "| \u001b[0m 16      \u001b[0m | \u001b[0m 0.8693  \u001b[0m | \u001b[0m 99.44   \u001b[0m | \u001b[0m 98.28   \u001b[0m | \u001b[0m 98.84   \u001b[0m | \u001b[0m 0.5733  \u001b[0m |\n",
      "| \u001b[0m 17      \u001b[0m | \u001b[0m 0.8204  \u001b[0m | \u001b[0m 98.32   \u001b[0m | \u001b[0m 99.86   \u001b[0m | \u001b[0m 5.056   \u001b[0m | \u001b[0m 0.1971  \u001b[0m |\n",
      "| \u001b[0m 18      \u001b[0m | \u001b[0m 0.8667  \u001b[0m | \u001b[0m 61.19   \u001b[0m | \u001b[0m 59.49   \u001b[0m | \u001b[0m 70.63   \u001b[0m | \u001b[0m 0.1683  \u001b[0m |\n",
      "| \u001b[0m 19      \u001b[0m | \u001b[0m 0.8692  \u001b[0m | \u001b[0m 50.03   \u001b[0m | \u001b[0m 2.556   \u001b[0m | \u001b[0m 98.64   \u001b[0m | \u001b[0m 0.7926  \u001b[0m |\n",
      "| \u001b[0m 20      \u001b[0m | \u001b[0m 0.8649  \u001b[0m | \u001b[0m 52.37   \u001b[0m | \u001b[0m 2.004   \u001b[0m | \u001b[0m 58.16   \u001b[0m | \u001b[0m 0.9571  \u001b[0m |\n",
      "| \u001b[0m 21      \u001b[0m | \u001b[0m 0.8689  \u001b[0m | \u001b[0m 75.97   \u001b[0m | \u001b[0m 80.98   \u001b[0m | \u001b[0m 96.54   \u001b[0m | \u001b[0m 0.9751  \u001b[0m |\n",
      "| \u001b[0m 22      \u001b[0m | \u001b[0m 0.8668  \u001b[0m | \u001b[0m 99.87   \u001b[0m | \u001b[0m 5.568   \u001b[0m | \u001b[0m 72.04   \u001b[0m | \u001b[0m 0.7062  \u001b[0m |\n",
      "| \u001b[0m 23      \u001b[0m | \u001b[0m 0.8677  \u001b[0m | \u001b[0m 44.04   \u001b[0m | \u001b[0m 20.69   \u001b[0m | \u001b[0m 82.88   \u001b[0m | \u001b[0m 0.9473  \u001b[0m |\n",
      "| \u001b[0m 24      \u001b[0m | \u001b[0m 0.8692  \u001b[0m | \u001b[0m 81.66   \u001b[0m | \u001b[0m 3.341   \u001b[0m | \u001b[0m 98.14   \u001b[0m | \u001b[0m 0.881   \u001b[0m |\n",
      "| \u001b[0m 25      \u001b[0m | \u001b[0m 0.8689  \u001b[0m | \u001b[0m 97.41   \u001b[0m | \u001b[0m 76.21   \u001b[0m | \u001b[0m 98.06   \u001b[0m | \u001b[0m 0.198   \u001b[0m |\n",
      "| \u001b[0m 26      \u001b[0m | \u001b[0m 0.8674  \u001b[0m | \u001b[0m 63.74   \u001b[0m | \u001b[0m 3.37    \u001b[0m | \u001b[0m 78.02   \u001b[0m | \u001b[0m 0.9723  \u001b[0m |\n",
      "| \u001b[0m 27      \u001b[0m | \u001b[0m 0.865   \u001b[0m | \u001b[0m 42.25   \u001b[0m | \u001b[0m 55.22   \u001b[0m | \u001b[0m 58.3    \u001b[0m | \u001b[0m 0.9504  \u001b[0m |\n",
      "| \u001b[0m 28      \u001b[0m | \u001b[0m 0.8667  \u001b[0m | \u001b[0m 99.5    \u001b[0m | \u001b[0m 99.43   \u001b[0m | \u001b[0m 72.84   \u001b[0m | \u001b[0m 0.274   \u001b[0m |\n",
      "| \u001b[0m 29      \u001b[0m | \u001b[0m 0.8691  \u001b[0m | \u001b[0m 70.33   \u001b[0m | \u001b[0m 20.26   \u001b[0m | \u001b[0m 99.85   \u001b[0m | \u001b[0m 0.1986  \u001b[0m |\n",
      "| \u001b[0m 30      \u001b[0m | \u001b[0m 0.8689  \u001b[0m | \u001b[0m 99.5    \u001b[0m | \u001b[0m 18.85   \u001b[0m | \u001b[0m 97.0    \u001b[0m | \u001b[0m 0.8481  \u001b[0m |\n",
      "=========================================================================\n"
     ]
    }
   ],
   "source": [
    "rf_bo.maximize()"
   ]
  },
  {
   "cell_type": "code",
   "execution_count": 135,
   "metadata": {},
   "outputs": [
    {
     "data": {
      "text/plain": [
       "0.1305780660911836"
      ]
     },
     "execution_count": 135,
     "metadata": {},
     "output_type": "execute_result"
    }
   ],
   "source": [
    "1 - rf_bo.max['target']"
   ]
  },
  {
   "cell_type": "code",
   "execution_count": null,
   "metadata": {},
   "outputs": [],
   "source": []
  }
 ],
 "metadata": {
  "kernelspec": {
   "display_name": "Python 3",
   "language": "python",
   "name": "python3"
  },
  "language_info": {
   "codemirror_mode": {
    "name": "ipython",
    "version": 3
   },
   "file_extension": ".py",
   "mimetype": "text/x-python",
   "name": "python",
   "nbconvert_exporter": "python",
   "pygments_lexer": "ipython3",
   "version": "3.7.1"
  }
 },
 "nbformat": 4,
 "nbformat_minor": 2
}
